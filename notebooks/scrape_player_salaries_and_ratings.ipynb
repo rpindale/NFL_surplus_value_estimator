{
 "cells": [
  {
   "cell_type": "markdown",
   "id": "01c98bf0-b53b-426b-83aa-c1af97aca8d6",
   "metadata": {},
   "source": [
    "# Scraping Player salaries and madden ratings\n",
    "\n",
    "## data sources: \n",
    "\n",
    "### https://overthecap.com --> player salaries as of June 1, 2025\n",
    "    used for webscraping to obtain dataframe\n",
    "### https://www.spotrac.com/nfl --> contract type (Rookie, Undrafted, other) as of June 5, 2025\n",
    "    used for reference to manually fill contract type - did not scrape\n",
    "### https://www.ea.com/en/games/madden-nfl --> 2024 Madden Ratings\n",
    "    used for webscraping to obtain dataframe"
   ]
  },
  {
   "cell_type": "code",
   "execution_count": 20,
   "id": "ff53546d-855f-4978-be94-2f3fb1f16ae5",
   "metadata": {},
   "outputs": [],
   "source": [
    "import requests\n",
    "import bs4\n",
    "import numpy as np\n",
    "import pandas as pd"
   ]
  },
  {
   "cell_type": "code",
   "execution_count": 10,
   "id": "5c57fc31-2ec6-442f-83d1-74bfb08e94ba",
   "metadata": {},
   "outputs": [],
   "source": [
    "def read_data(url):\n",
    "    \"\"\"\n",
    "    read in the data from the url.\n",
    "    ---------------\n",
    "    Parameters:\n",
    "    ---------------\n",
    "    \n",
    "    Inputs: \n",
    "        url (string): the url of interest \n",
    "\n",
    "    Outputs: \n",
    "        resulted (HTML): the HTML code to search through\n",
    "    \n",
    "    \"\"\"\n",
    "    r = requests.get(url)\n",
    "    print(r)\n",
    "    resulted = bs4.BeautifulSoup(r.text, 'html')\n",
    "    return(resulted)"
   ]
  },
  {
   "cell_type": "code",
   "execution_count": 118,
   "id": "565d3e86-6f32-4d7b-b8bd-251844cf3242",
   "metadata": {},
   "outputs": [],
   "source": [
    "positions = ['quarterback', 'running-back', 'fullback', 'wide-receiver', \n",
    "             'tight-end', 'left-tackle', 'left-guard', 'center', \n",
    "             'right-guard', 'right-tackle', 'interior-defensive-line', \n",
    "             'edge-rusher', 'linebacker', 'safety', 'cornerback', 'kicker', \n",
    "             'punter', 'long-snapper']\n",
    "\n",
    "\n",
    "\n",
    "def compile_data():\n",
    "    contract_dataset = pd.DataFrame(columns = ['Player', 'Team', 'Age', 'Total Value', 'APY', 'Total Guaranteed', 'Fully Guaranteed', 'Free Agency', 'position'])\n",
    "\n",
    "\n",
    "    for position in positions:\n",
    "        url = f'https://overthecap.com/position/{position}'\n",
    "        webpage_html = read_data(url)\n",
    "\n",
    "        td_tags = webpage_html.find_all('td')\n",
    "\n",
    "        pos_contract_data = [str(i).split('\">')[-1].split('</td>')[0].replace('<td>', '').replace('</a>', '').replace('$', '').replace(',', '') for i in td_tags]\n",
    "\n",
    "        position_contract_df = pd.DataFrame(\n",
    "            data=np.array(pos_contract_data).reshape(\n",
    "                int(len(pos_contract_data)/8), \n",
    "                8), \n",
    "            columns = ['Player', 'Team', 'Age', 'Total Value', 'APY', 'Total Guaranteed', 'Fully Guaranteed', 'Free Agency']\n",
    "        )\n",
    "\n",
    "        position_contract_df['position'] = [position]*len(position_contract_df)\n",
    "        \n",
    "        contract_dataset = pd.concat([contract_dataset, position_contract_df])\n",
    "\n",
    "    return(contract_dataset)"
   ]
  },
  {
   "cell_type": "code",
   "execution_count": 104,
   "id": "0f49356f-97dd-4f25-8905-a6ebfe34a5f7",
   "metadata": {},
   "outputs": [],
   "source": [
    "data = compile_data()"
   ]
  },
  {
   "cell_type": "code",
   "execution_count": 112,
   "id": "36825c9a-f16d-4a2c-bc8b-c64469b3584b",
   "metadata": {},
   "outputs": [],
   "source": [
    "#data.to_csv('../data/player_salaries.csv', index=0)"
   ]
  },
  {
   "cell_type": "code",
   "execution_count": null,
   "id": "321e1d0e-d175-442a-9a4a-a1fe91a1beaf",
   "metadata": {},
   "outputs": [],
   "source": []
  },
  {
   "cell_type": "code",
   "execution_count": null,
   "id": "ccb86f47-0165-41c2-a42d-a1418b8d8a4b",
   "metadata": {},
   "outputs": [],
   "source": []
  },
  {
   "cell_type": "code",
   "execution_count": null,
   "id": "0373df0d-2b50-4da0-bb82-ea96ac8b2b03",
   "metadata": {},
   "outputs": [],
   "source": []
  },
  {
   "cell_type": "code",
   "execution_count": null,
   "id": "2f79c88e-9615-4818-9525-735bd3e36da8",
   "metadata": {},
   "outputs": [],
   "source": []
  },
  {
   "cell_type": "code",
   "execution_count": null,
   "id": "ef71dec7-a5a9-446f-8ce5-12d042e27095",
   "metadata": {},
   "outputs": [],
   "source": []
  },
  {
   "cell_type": "code",
   "execution_count": null,
   "id": "be6bc639-791a-48d4-a01d-dae7c503b863",
   "metadata": {},
   "outputs": [],
   "source": []
  },
  {
   "cell_type": "code",
   "execution_count": 465,
   "id": "16b43f0a-6b20-4805-96d3-f1b8fd299b20",
   "metadata": {},
   "outputs": [],
   "source": [
    "\n",
    "teams_on_madden = ['Miami Dolphins', 'Philadelphia Eagles', 'Los Angeles Chargers', 'NY Giants', 'Kansas City Chiefs', 'Minnesota Vikings', 'Arizona Cardinals', 'New England Patriots', 'Denver Broncos', 'Houston Texans', 'Dallas Cowboys', 'Las Vegas Raiders', 'Pittsburgh Steelers', 'Atlanta Falcons', 'San Francisco 49ers', 'Washington Commanders', 'Tennessee Titans', 'Chicago Bears', 'Cincinnati Bengals', 'Cleveland Browns', 'Seattle Seahawks', 'Carolina Panthers', 'Green Bay Packers', 'NY Jets', 'Baltimore Ravens', 'Tampa Bay Buccaneers', 'Buffalo Bills', 'Indianapolis Colts', 'New Orleans Saints', 'Los Angeles Rams', 'Jacksonville Jaguars', 'Detroit Lions']\n",
    "\n",
    "\n",
    "def compile_madden_data():\n",
    "    madden_dataset = pd.DataFrame(columns = ['Player', 'Team', 'Position', 'OVR', 'SPD', 'STR', 'AGI', 'COD', 'INJ','AWR'])\n",
    "\n",
    "\n",
    "    for page_num in range(1,22):\n",
    "        url = f'https://www.ea.com/en/games/madden-nfl/ratings?page={page_num}'\n",
    "        webpage_html = read_data(url)\n",
    "\n",
    "        player_names_raw = webpage_html.find_all('div', class_='Table_profileContent__0t2_u')\n",
    "        positions_raw = webpage_html.find_all('span', class_='Table_tag__vKZKn generated_utility20sm__ZX2Hf generated_utility19md__XKkU_')\n",
    "        teams_raw = [i for i in webpage_html.find_all('img', class_='Picture_image__L8suG', style=\"width:100%;height:100%\") if 'X-Factor' not in str(i)]\n",
    "        ratings_raw = webpage_html.find_all('span', class_='Table_statCellValue__zn5Cx')\n",
    "\n",
    "\n",
    "        players = [str(i).split('__0t2_u\">')[-1].replace('</div>', '') for i in player_names_raw]\n",
    "        teams_reduced = [str(i).split('alt=\"')[1].split('\" class')[0] for i in teams_raw]\n",
    "        teams = [i for i in teams_reduced if i in teams_on_madden][:len(players)]\n",
    "        positions = [str(i).split('XKkU_\">')[-1].replace('</span>', '') for i in positions_raw]\n",
    "        OVR = [str(i).split('<span aria-hidden=\"true\"')[0].replace('</span>', '').split('>')[-1] for i in ratings_raw[::14]]\n",
    "        SPD = [str(i).split('<span aria-hidden=\"true\"')[0].replace('</span>', '').split('>')[-1] for i in ratings_raw[1::14]]\n",
    "        STR = [str(i).split('<span aria-hidden=\"true\"')[0].replace('</span>', '').split('>')[-1] for i in ratings_raw[2::14]]\n",
    "        AGI = [str(i).split('<span aria-hidden=\"true\"')[0].replace('</span>', '').split('>')[-1] for i in ratings_raw[3::14]]\n",
    "        COD = [str(i).split('<span aria-hidden=\"true\"')[0].replace('</span>', '').split('>')[-1] for i in ratings_raw[4::14]]\n",
    "        INJ = [str(i).split('<span aria-hidden=\"true\"')[0].replace('</span>', '').split('>')[-1] for i in ratings_raw[5::14]]\n",
    "        AWR = [str(i).split('<span aria-hidden=\"true\"')[0].replace('</span>', '').split('>')[-1] for i in ratings_raw[6::14]]\n",
    "\n",
    "\n",
    "        madden_page_df = pd.DataFrame(\n",
    "                                    {'Player':players, \n",
    "                                     'Team':teams, \n",
    "                                     'Position':positions, \n",
    "                                     'OVR':OVR, \n",
    "                                     'SPD':SPD, \n",
    "                                     'STR':STR, \n",
    "                                     'AGI':AGI, \n",
    "                                     'COD':COD, \n",
    "                                     'INJ':INJ, \n",
    "                                     'AWR':AWR})\n",
    "        \n",
    "        madden_dataset = pd.concat([madden_dataset, madden_page_df])\n",
    "\n",
    "    return(madden_dataset)"
   ]
  },
  {
   "cell_type": "code",
   "execution_count": 467,
   "id": "d8e00fc7-ed5c-431b-903a-012748916b1e",
   "metadata": {},
   "outputs": [],
   "source": [
    "madden_data = compile_madden_data()"
   ]
  },
  {
   "cell_type": "code",
   "execution_count": 479,
   "id": "6c97ffb7-0275-4813-ba92-e19f7443565f",
   "metadata": {},
   "outputs": [],
   "source": [
    "#madden_data.to_csv('../data/madden_ratings.csv', index=0)"
   ]
  },
  {
   "cell_type": "code",
   "execution_count": null,
   "id": "dae62d6a-386a-4b20-ae7c-61ce79aea557",
   "metadata": {},
   "outputs": [],
   "source": []
  },
  {
   "cell_type": "code",
   "execution_count": null,
   "id": "17cc970a-14a4-4706-85e4-f56ac6ff2e1e",
   "metadata": {},
   "outputs": [],
   "source": []
  },
  {
   "cell_type": "code",
   "execution_count": null,
   "id": "619f4b5d-96af-431e-a5ca-3a4afaaaf99c",
   "metadata": {},
   "outputs": [],
   "source": []
  },
  {
   "cell_type": "code",
   "execution_count": null,
   "id": "57150986-bd17-4e0e-8d41-cd6b84648b5e",
   "metadata": {},
   "outputs": [],
   "source": []
  },
  {
   "cell_type": "code",
   "execution_count": null,
   "id": "97e6c87e-34a6-4d0c-8b96-16abf04ac2c3",
   "metadata": {},
   "outputs": [],
   "source": []
  },
  {
   "cell_type": "code",
   "execution_count": null,
   "id": "bf141d80-ad74-4495-af8f-01cbb774f6fe",
   "metadata": {},
   "outputs": [],
   "source": []
  },
  {
   "cell_type": "code",
   "execution_count": null,
   "id": "e95953e6-301b-49c6-a61c-8d0226c5a2fc",
   "metadata": {},
   "outputs": [],
   "source": []
  },
  {
   "cell_type": "code",
   "execution_count": null,
   "id": "d95beeb7-b866-450f-b44c-f77b4a0da532",
   "metadata": {},
   "outputs": [],
   "source": []
  },
  {
   "cell_type": "code",
   "execution_count": null,
   "id": "3ac7f333-0b7d-4f90-8a53-b82832690ae8",
   "metadata": {},
   "outputs": [],
   "source": []
  },
  {
   "cell_type": "code",
   "execution_count": null,
   "id": "f88d36f5-7d9f-4260-af31-2e6c53f95f54",
   "metadata": {},
   "outputs": [],
   "source": []
  }
 ],
 "metadata": {
  "kernelspec": {
   "display_name": "Python [conda env:base] *",
   "language": "python",
   "name": "conda-base-py"
  },
  "language_info": {
   "codemirror_mode": {
    "name": "ipython",
    "version": 3
   },
   "file_extension": ".py",
   "mimetype": "text/x-python",
   "name": "python",
   "nbconvert_exporter": "python",
   "pygments_lexer": "ipython3",
   "version": "3.12.2"
  }
 },
 "nbformat": 4,
 "nbformat_minor": 5
}
